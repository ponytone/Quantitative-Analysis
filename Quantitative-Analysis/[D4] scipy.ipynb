{
 "cells": [
  {
   "cell_type": "markdown",
   "metadata": {},
   "source": [
    "# Scipy \n",
    "* Souse : <https://wizardforcel.gitbooks.io/python-quant-uqer/content/8.html>\n",
    "* All Distribution : <https://docs.scipy.org/doc/scipy/reference/stats.html> (Random variables generating)\n",
    "* More stats model : <http://www.statsmodels.org/stable/index.html>"
   ]
  },
  {
   "cell_type": "code",
   "execution_count": 2,
   "metadata": {},
   "outputs": [],
   "source": [
    "import numpy as np\n",
    "import scipy.stats as stats\n",
    "import scipy.optimize as opt"
   ]
  },
  {
   "cell_type": "markdown",
   "metadata": {},
   "source": [
    "## Statistics\n",
    "* ###  Random variables generating"
   ]
  },
  {
   "cell_type": "code",
   "execution_count": 31,
   "metadata": {},
   "outputs": [
    {
     "name": "stdout",
     "output_type": "stream",
     "text": [
      "Uniform distribution : [0.18136453 0.25266944 0.25088364 0.85272771 0.02037953 0.32904574\n",
      " 0.25282822 0.52155707 0.01371629 0.58341721]\n",
      "Beta distribution : [0.71734196 0.7298477  0.67172984 0.72825931 0.67197403 0.56086508\n",
      " 0.64419362 0.74821534 0.9475687  0.54748015]\n"
     ]
    }
   ],
   "source": [
    "# uniform\n",
    "rv_unif = stats.uniform.rvs(size=10)\n",
    "print('Uniform distribution : {}'.format(rv_unif))\n",
    "\n",
    "#beta\n",
    "rv_beta = stats.beta.rvs(size=10, a=4, b=2)\n",
    "print('Beta distribution : {}'.format(rv_beta))"
   ]
  },
  {
   "cell_type": "code",
   "execution_count": 32,
   "metadata": {},
   "outputs": [
    {
     "name": "stdout",
     "output_type": "stream",
     "text": [
      "Uniform distribution : [0.16712564 0.08099804 0.96022574 0.93845024 0.62085885 0.42560197\n",
      " 0.68978129 0.24203462 0.36660064 0.14195103]\n"
     ]
    }
   ],
   "source": [
    "#set seed\n",
    "np.random.seed(2001)\n",
    "rv_unif = stats.uniform.rvs(size=10)\n",
    "print('Uniform distribution : {}'.format(rv_unif))"
   ]
  },
  {
   "cell_type": "markdown",
   "metadata": {},
   "source": [
    "* ### Hypothesis Testing\n",
    "* KS test : <https://www.itl.nist.gov/div898/handbook/eda/section3/eda35g.htm>"
   ]
  },
  {
   "cell_type": "code",
   "execution_count": 114,
   "metadata": {},
   "outputs": [
    {
     "name": "stdout",
     "output_type": "stream",
     "text": [
      "mean : 0.5194843780984614 ,  std : 2.0309377247752662\n",
      "KS-statistic D = 0.0443238843 , p-value = 0.8268858566\n",
      "KS-statistic D = 3.6082982152 , p-value = 0.0003898700\n"
     ]
    }
   ],
   "source": [
    "# normal distribution\n",
    "norm_rv = stats.norm.rvs(size = 200,loc=0.5, scale=2)\n",
    "n = norm_rv\n",
    "mean = n.mean()\n",
    "std = n.std()\n",
    "print('mean : {0} ,  std : {1}'.format(mean,std))\n",
    "\n",
    "# KS test\n",
    "stat_val, p_val = stats.kstest(n,'norm',(0.5,2))\n",
    "print('KS-statistic D = {0:10.10f} , p-value = {1:10.10f}'.format(stat_val,p_val))\n",
    "    # normal distribution\n",
    "    \n",
    "# test mean is 0 or not t test\n",
    "stat_val, p_val = stats.ttest_1samp(n, 0)\n",
    "print('KS-statistic D = {0:10.10f} , p-value = {1:10.10f}'.format(stat_val,p_val))\n",
    "    # the mean is not 0\n",
    "\n",
    "# test two distribution\n",
    "norm_rv2 = stats.norm.rvs(size = 200,loc=0.6, scale=2.5)\n",
    "n2 = norm_rv\n",
    "mean = n2.mean()\n",
    "std = n2.std()\n",
    "\n",
    "stat_val, p_val = stats.ttest_ind(n,n2,equal_var=True)\n",
    "    # equal_var=False if sample size are different"
   ]
  },
  {
   "cell_type": "markdown",
   "metadata": {},
   "source": [
    "* ### Quantile & Moment \n",
    "     No use in sample"
   ]
  },
  {
   "cell_type": "code",
   "execution_count": 141,
   "metadata": {},
   "outputs": [
    {
     "name": "stdout",
     "output_type": "stream",
     "text": [
      "quantiles of 2, 4 and 5:\n",
      "[0.59399415 0.90842181 0.95957232]\n",
      "Values of 25%, 50% and 90%:\n",
      "[0.1947002  0.30326533 0.36740397]\n"
     ]
    }
   ],
   "source": [
    "# quantile\n",
    "g_dist = stats.gamma(a=2)\n",
    "print (\"quantiles of 2, 4 and 5:\")\n",
    "print (g_dist.cdf([2, 4, 5]))\n",
    "print (\"Values of 25%, 50% and 90%:\")\n",
    "print (g_dist.pdf([0.25, 0.5, 0.95]))"
   ]
  },
  {
   "cell_type": "code",
   "execution_count": 172,
   "metadata": {},
   "outputs": [
    {
     "data": {
      "text/plain": [
       "2.523441684133423"
      ]
     },
     "execution_count": 172,
     "metadata": {},
     "output_type": "execute_result"
    }
   ],
   "source": [
    "# sample quantile\n",
    "g_dist = stats.gamma.rvs(size = 20,a=2)\n",
    "np.quantile(g_dist,0.5)"
   ]
  },
  {
   "cell_type": "code",
   "execution_count": 157,
   "metadata": {},
   "outputs": [
    {
     "data": {
      "text/plain": [
       "3.0"
      ]
     },
     "execution_count": 157,
     "metadata": {},
     "output_type": "execute_result"
    }
   ],
   "source": [
    "# moment\n",
    "z = 4\n",
    "stats.norm.moment(z,loc = 0,scale = 1)"
   ]
  },
  {
   "cell_type": "markdown",
   "metadata": {},
   "source": [
    "* ### Describe & MLE estimator"
   ]
  },
  {
   "cell_type": "code",
   "execution_count": 170,
   "metadata": {},
   "outputs": [
    {
     "name": "stdout",
     "output_type": "stream",
     "text": [
      "DescribeResult(nobs=200, minmax=(-2.3254495411201828, 2.72689721881964), mean=0.042909875816325355, variance=0.8103611381600083, skewness=-0.018306509480757297, kurtosis=0.40421361891736884)\n",
      "Mean in MLE : 0.042909875816325355 \n",
      "Std in MLE : 0.8979472882464807\n"
     ]
    }
   ],
   "source": [
    "n = stats.norm.rvs(size = 200,loc = 0, scale = 1)\n",
    "inf = stats.describe(n)\n",
    "print(inf)\n",
    "mean,std = stats.norm.fit(n)\n",
    "print('Mean in MLE : {} \\nStd in MLE : {}'.format(mean,std))"
   ]
  },
  {
   "cell_type": "markdown",
   "metadata": {},
   "source": [
    "* ### Pearsonr & Spearmanr"
   ]
  },
  {
   "cell_type": "code",
   "execution_count": 5,
   "metadata": {},
   "outputs": [
    {
     "name": "stdout",
     "output_type": "stream",
     "text": [
      "Pearsonr's :\n",
      "The correlation of two distribution is -0.0908752649858539,\n",
      "The p-value is 0.2006279800281026.\n",
      "Spearmanr's :\n",
      "The correlation of two distribution is -0.053608340208505224,\n",
      "The p-value is 0.4508932227085941.\n"
     ]
    }
   ],
   "source": [
    "norm_dist = stats.norm.rvs(size = 200,loc = 0,scale = 1)\n",
    "expo_dist = stats.expon.rvs(size = 200)\n",
    "corr , p_value = stats.pearsonr(norm_dist,expo_dist)\n",
    "print(\"Pearsonr's :\\nThe correlation of two distribution is {},\\nThe p-value is {}.\".format(corr,p_value))\n",
    "corr , p_value = stats.spearmanr(norm_dist,expo_dist)\n",
    "print(\"Spearmanr's :\\nThe correlation of two distribution is {},\\nThe p-value is {}.\".format(corr,p_value))"
   ]
  },
  {
   "cell_type": "markdown",
   "metadata": {},
   "source": [
    "* ### Regression"
   ]
  },
  {
   "cell_type": "code",
   "execution_count": 6,
   "metadata": {},
   "outputs": [
    {
     "data": {
      "text/plain": [
       "LinregressResult(slope=1.180770628326481, intercept=2.812558012619495, rvalue=0.907712343740936, pvalue=9.88617160867286e-20, stderr=0.07878162503357605)"
      ]
     },
     "execution_count": 6,
     "metadata": {},
     "output_type": "execute_result"
    }
   ],
   "source": [
    "x = stats.chi2.rvs(3, size=50)\n",
    "y = 2.5 + 1.2 * x + stats.norm.rvs(size=50, loc=0, scale=1.5)\n",
    "stats.linregress(x, y)"
   ]
  },
  {
   "cell_type": "markdown",
   "metadata": {},
   "source": [
    "## Optimization Problem\n",
    "### convex optimization\n",
    "#### 1、Nelder-Mead method"
   ]
  },
  {
   "cell_type": "code",
   "execution_count": 16,
   "metadata": {},
   "outputs": [
    {
     "name": "stdout",
     "output_type": "stream",
     "text": [
      "Optimization terminated successfully.\n",
      "         Current function value: 0.000000\n",
      "         Iterations: 436\n",
      "         Function evaluations: 706\n"
     ]
    },
    {
     "data": {
      "text/plain": [
       " final_simplex: (array([[1.        , 1.        , 1.        , 1.        , 1.        ],\n",
       "       [1.        , 1.        , 1.        , 1.        , 1.        ],\n",
       "       [1.        , 1.        , 1.        , 1.        , 0.99999999],\n",
       "       [1.        , 1.        , 1.        , 1.        , 1.        ],\n",
       "       [1.        , 1.        , 1.        , 1.        , 1.00000001],\n",
       "       [1.        , 1.        , 1.        , 1.        , 1.00000001]]), array([1.66149699e-17, 6.32117429e-17, 7.44105349e-17, 8.24396866e-17,\n",
       "       9.53208876e-17, 1.07882961e-16]))\n",
       "           fun: 1.6614969876635003e-17\n",
       "       message: 'Optimization terminated successfully.'\n",
       "          nfev: 706\n",
       "           nit: 436\n",
       "        status: 0\n",
       "       success: True\n",
       "             x: array([1., 1., 1., 1., 1.])"
      ]
     },
     "execution_count": 16,
     "metadata": {},
     "output_type": "execute_result"
    }
   ],
   "source": [
    "# example\n",
    "def rosen(x):\n",
    "    \"\"\"The Rosenbrock function\"\"\"\n",
    "    return sum(100.0*(x[1:]-x[:-1]**2.0)**2.0 + (1-x[:-1])**2.0)\n",
    "\n",
    "# Nelder-Mead method\n",
    "x_0 = np.array([0.5, 1.6, 1.1, 0.8, 1.2])\n",
    "res = opt.minimize(rosen, x_0, method='nelder-mead', options={'xtol': 1e-8, 'disp': True})\n",
    "    # xtol表示迭代收斂的容忍誤差上界\n",
    "    # disp : bool,Set to True to print convergence messages.\n",
    "res"
   ]
  },
  {
   "cell_type": "code",
   "execution_count": null,
   "metadata": {},
   "outputs": [],
   "source": []
  }
 ],
 "metadata": {
  "kernelspec": {
   "display_name": "Python 3",
   "language": "python",
   "name": "python3"
  },
  "language_info": {
   "codemirror_mode": {
    "name": "ipython",
    "version": 3
   },
   "file_extension": ".py",
   "mimetype": "text/x-python",
   "name": "python",
   "nbconvert_exporter": "python",
   "pygments_lexer": "ipython3",
   "version": "3.7.1"
  }
 },
 "nbformat": 4,
 "nbformat_minor": 2
}
