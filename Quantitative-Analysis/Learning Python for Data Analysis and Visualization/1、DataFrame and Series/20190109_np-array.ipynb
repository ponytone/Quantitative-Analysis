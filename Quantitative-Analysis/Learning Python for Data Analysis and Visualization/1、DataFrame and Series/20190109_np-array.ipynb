{
 "cells": [
  {
   "cell_type": "code",
   "execution_count": 1,
   "metadata": {},
   "outputs": [],
   "source": [
    "import numpy as np"
   ]
  },
  {
   "cell_type": "code",
   "execution_count": 24,
   "metadata": {},
   "outputs": [
    {
     "name": "stdout",
     "output_type": "stream",
     "text": [
      "[[1. 1. 1. 1. 1.]\n",
      " [1. 1. 1. 1. 1.]\n",
      " [1. 1. 1. 1. 1.]\n",
      " [1. 1. 1. 1. 1.]\n",
      " [1. 1. 1. 1. 1.]]\n",
      "[[[[0. 0. 0. 0.]\n",
      "   [0. 0. 0. 0.]\n",
      "   [0. 0. 0. 0.]]\n",
      "\n",
      "  [[0. 0. 0. 0.]\n",
      "   [0. 0. 0. 0.]\n",
      "   [0. 0. 0. 0.]]]]\n",
      "[[1. 0. 0. 0. 0.]\n",
      " [0. 1. 0. 0. 0.]\n",
      " [0. 0. 1. 0. 0.]\n",
      " [0. 0. 0. 1. 0.]\n",
      " [0. 0. 0. 0. 1.]]\n"
     ]
    }
   ],
   "source": [
    "# create array\n",
    "np.array([1,2,3])\n",
    "print(np.ones([5,5]))\n",
    "print(np.zeros([1,2,3,4]))\n",
    "print(np.eye(5))"
   ]
  },
  {
   "cell_type": "code",
   "execution_count": 69,
   "metadata": {},
   "outputs": [
    {
     "name": "stdout",
     "output_type": "stream",
     "text": [
      "[[ 0  1  2  3  4  5  6  7  8  9]\n",
      " [10 11 12 13 14 15 16 17 18 19]\n",
      " [20 21 22 23 24 25 26 27 28 29]]\n",
      "[[10 11 12]\n",
      " [20 21 22]]\n",
      "[[ 0  1  2  3  4  5  6  7  8  9 10 11 12 13 14 15 16 17 18 19]\n",
      " [20 21 22 23 24 25 26 27 28 29 30 31 32 33 34 35 36 37 38 39]\n",
      " [40 41 42 43 44 45 46 47 48 49 50 51 52 53 54 55 56 57 58 59]\n",
      " [60 61 62 63 64 65 66 67 68 69 70 71 72 73 74 75 76 77 78 79]\n",
      " [80 81 82 83 84 85 86 87 88 89 90 91 92 93 94 95 96 97 98 99]]\n"
     ]
    },
    {
     "data": {
      "text/plain": [
       "array([[60, 61, 62, 63, 64, 65, 66, 67, 68, 69, 70, 71, 72, 73, 74, 75,\n",
       "        76, 77, 78, 79],\n",
       "       [80, 81, 82, 83, 84, 85, 86, 87, 88, 89, 90, 91, 92, 93, 94, 95,\n",
       "        96, 97, 98, 99],\n",
       "       [20, 21, 22, 23, 24, 25, 26, 27, 28, 29, 30, 31, 32, 33, 34, 35,\n",
       "        36, 37, 38, 39]])"
      ]
     },
     "execution_count": 69,
     "metadata": {},
     "output_type": "execute_result"
    }
   ],
   "source": [
    "# Indexing array\n",
    "\n",
    "a = np.arange(30).reshape(3,-1)\n",
    "print(a)\n",
    "print(a[1:,:3])\n",
    "#\n",
    "b = np.arange(100).reshape(5,-1)\n",
    "print(b)\n",
    "b[[3,4,1]]"
   ]
  },
  {
   "cell_type": "code",
   "execution_count": 75,
   "metadata": {},
   "outputs": [
    {
     "name": "stdout",
     "output_type": "stream",
     "text": [
      "[[ 0 10 20 30 40]\n",
      " [ 1 11 21 31 41]\n",
      " [ 2 12 22 32 42]\n",
      " [ 3 13 23 33 43]\n",
      " [ 4 14 24 34 44]\n",
      " [ 5 15 25 35 45]\n",
      " [ 6 16 26 36 46]\n",
      " [ 7 17 27 37 47]\n",
      " [ 8 18 28 38 48]\n",
      " [ 9 19 29 39 49]]\n",
      "[[  285   735  1185  1635  2085]\n",
      " [  735  2185  3635  5085  6535]\n",
      " [ 1185  3635  6085  8535 10985]\n",
      " [ 1635  5085  8535 11985 15435]\n",
      " [ 2085  6535 10985 15435 19885]]\n"
     ]
    }
   ],
   "source": [
    "# array transform\n",
    "\n",
    "a = np.arange(50).reshape(5,-1)\n",
    "print(a.T)\n",
    "\n",
    "#dot\n",
    "print(np.dot(a,a.T))"
   ]
  },
  {
   "cell_type": "code",
   "execution_count": 86,
   "metadata": {},
   "outputs": [
    {
     "name": "stdout",
     "output_type": "stream",
     "text": [
      "A is :\n",
      "[ 0.89738716  0.16184505  1.56543065 -0.463065    0.45224721  1.71884827\n",
      "  1.18704695 -0.87143998  1.30260343  2.5204849 ]\n",
      "B is :\n",
      "[ 1.57958847 -1.26276668  0.3326988   0.7350506  -0.09974638  0.88589781\n",
      " -0.95098414 -0.18702084  0.12891453 -1.1263839 ]\n",
      "[ 2.47697563 -1.10092164  1.89812945  0.2719856   0.35250083  2.60474608\n",
      "  0.23606282 -1.05846082  1.43151795  1.39410099]\n",
      "[ 1.57958847  0.16184505  1.56543065  0.7350506   0.45224721  1.71884827\n",
      "  1.18704695 -0.18702084  1.30260343  2.5204849 ]\n"
     ]
    }
   ],
   "source": [
    "# Array funtion\n",
    "\n",
    "A = np.random.randn(10)\n",
    "B = np.random.randn(10)\n",
    "print('A is :'+'\\n'+str(A))\n",
    "print('B is :'+'\\n'+str(B))\n",
    "\n",
    "# binary funtion \n",
    "print(np.add(A,B))\n",
    "print(np.maximum(A,B))"
   ]
  },
  {
   "cell_type": "code",
   "execution_count": 90,
   "metadata": {},
   "outputs": [
    {
     "name": "stdout",
     "output_type": "stream",
     "text": [
      "[1, 600, 3, 800]\n"
     ]
    },
    {
     "data": {
      "text/plain": [
       "array([  1, 600,   3, 800])"
      ]
     },
     "execution_count": 90,
     "metadata": {},
     "output_type": "execute_result"
    }
   ],
   "source": [
    "# numpy where\n",
    "\n",
    "a = np.array([1,2,3,4])\n",
    "b = np.array([500,600,700,800])\n",
    "condition = np.array([True,False,True,False])\n",
    "\n",
    "answer = [(a_v if cond else b_v) for a_v,b_v,cond in zip(a,b,condition)]\n",
    "print(answer)\n",
    "\n",
    "# \n",
    "answer2 = np.where(condition,a,b)\n",
    "answer2"
   ]
  },
  {
   "cell_type": "code",
   "execution_count": 92,
   "metadata": {},
   "outputs": [
    {
     "data": {
      "text/plain": [
       "array([[ 0.        , -0.84002478, -1.16281731,  0.        ,  0.        ],\n",
       "       [-1.27876533,  0.        , -0.36990648, -0.45020055,  0.        ],\n",
       "       [-1.1109197 ,  0.        ,  0.        ,  0.        , -0.45694368],\n",
       "       [ 0.        , -1.45578248, -1.20820615, -1.68744754,  0.        ],\n",
       "       [ 0.        ,  0.        ,  0.        , -0.23082897, -0.37823502]])"
      ]
     },
     "execution_count": 92,
     "metadata": {},
     "output_type": "execute_result"
    }
   ],
   "source": [
    "a = np.random.randn(5,5)\n",
    "answer = np.where(a>0,0,a)\n",
    "answer"
   ]
  },
  {
   "cell_type": "code",
   "execution_count": 99,
   "metadata": {},
   "outputs": [
    {
     "name": "stdout",
     "output_type": "stream",
     "text": [
      "[[ 1  2  3  4]\n",
      " [ 5  6  7  8]\n",
      " [ 9 10 11 12]]\n",
      "78\n",
      "[15 18 21 24]\n",
      "[10 26 42]\n"
     ]
    }
   ],
   "source": [
    "# numpy sum\n",
    "a = np.arange(1,13).reshape(3,-1)\n",
    "print(a)\n",
    "print(a.sum())\n",
    "print(a.sum(0))\n",
    "print(a.sum(1))"
   ]
  },
  {
   "cell_type": "code",
   "execution_count": 105,
   "metadata": {},
   "outputs": [
    {
     "name": "stdout",
     "output_type": "stream",
     "text": [
      "['apple' 'bannana' 'lemon']\n"
     ]
    },
    {
     "data": {
      "text/plain": [
       "array([ True,  True, False])"
      ]
     },
     "execution_count": 105,
     "metadata": {},
     "output_type": "execute_result"
    }
   ],
   "source": [
    "# np.unique\n",
    "fruit = np.array(['apple','bannana','lemon','apple'])\n",
    "print(np.unique(fruit))\n",
    "np.in1d(['apple','lemon','orange'],fruit)"
   ]
  }
 ],
 "metadata": {
  "kernelspec": {
   "display_name": "Python 3",
   "language": "python",
   "name": "python3"
  },
  "language_info": {
   "codemirror_mode": {
    "name": "ipython",
    "version": 3
   },
   "file_extension": ".py",
   "mimetype": "text/x-python",
   "name": "python",
   "nbconvert_exporter": "python",
   "pygments_lexer": "ipython3",
   "version": "3.7.1"
  }
 },
 "nbformat": 4,
 "nbformat_minor": 2
}
