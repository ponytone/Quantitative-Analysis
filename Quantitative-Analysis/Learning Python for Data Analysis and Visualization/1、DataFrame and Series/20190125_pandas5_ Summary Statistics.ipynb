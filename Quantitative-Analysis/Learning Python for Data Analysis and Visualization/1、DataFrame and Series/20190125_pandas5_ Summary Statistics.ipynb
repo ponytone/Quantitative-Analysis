{
 "cells": [
  {
   "cell_type": "markdown",
   "metadata": {},
   "source": [
    "# pandas"
   ]
  },
  {
   "cell_type": "markdown",
   "metadata": {},
   "source": [
    "###  Summary Statistics"
   ]
  },
  {
   "cell_type": "code",
   "execution_count": 1,
   "metadata": {},
   "outputs": [],
   "source": [
    "import pandas as pd\n",
    "import numpy as np\n",
    "from pandas import DataFrame,Series\n",
    "import webbrowser\n",
    "from sklearn.preprocessing import Imputer"
   ]
  },
  {
   "cell_type": "code",
   "execution_count": 2,
   "metadata": {},
   "outputs": [
    {
     "data": {
      "text/plain": [
       "True"
      ]
     },
     "execution_count": 2,
     "metadata": {},
     "output_type": "execute_result"
    }
   ],
   "source": [
    "web = 'https://github.com/jmportilla/Udemy-notes/blob/master/Lec%2022%20-%20Summary%20Statistics.ipynb'\n",
    "webbrowser.open(web)"
   ]
  },
  {
   "cell_type": "code",
   "execution_count": 3,
   "metadata": {},
   "outputs": [
    {
     "data": {
      "text/html": [
       "<div>\n",
       "<style scoped>\n",
       "    .dataframe tbody tr th:only-of-type {\n",
       "        vertical-align: middle;\n",
       "    }\n",
       "\n",
       "    .dataframe tbody tr th {\n",
       "        vertical-align: top;\n",
       "    }\n",
       "\n",
       "    .dataframe thead th {\n",
       "        text-align: right;\n",
       "    }\n",
       "</style>\n",
       "<table border=\"1\" class=\"dataframe\">\n",
       "  <thead>\n",
       "    <tr style=\"text-align: right;\">\n",
       "      <th></th>\n",
       "      <th>One</th>\n",
       "      <th>Two</th>\n",
       "      <th>Three</th>\n",
       "    </tr>\n",
       "  </thead>\n",
       "  <tbody>\n",
       "    <tr>\n",
       "      <th>A</th>\n",
       "      <td>1.0</td>\n",
       "      <td>2.0</td>\n",
       "      <td>NaN</td>\n",
       "    </tr>\n",
       "    <tr>\n",
       "      <th>B</th>\n",
       "      <td>NaN</td>\n",
       "      <td>3.0</td>\n",
       "      <td>4.0</td>\n",
       "    </tr>\n",
       "  </tbody>\n",
       "</table>\n",
       "</div>"
      ],
      "text/plain": [
       "   One  Two  Three\n",
       "A  1.0  2.0    NaN\n",
       "B  NaN  3.0    4.0"
      ]
     },
     "execution_count": 3,
     "metadata": {},
     "output_type": "execute_result"
    }
   ],
   "source": [
    "arr = np.array([[1,2,np.nan],[np.nan,3,4]])\n",
    "dframe1 = DataFrame(arr,index=['A','B'],columns = ['One','Two','Three'])\n",
    "\n",
    "#Show\n",
    "dframe1"
   ]
  },
  {
   "cell_type": "code",
   "execution_count": 4,
   "metadata": {},
   "outputs": [
    {
     "name": "stdout",
     "output_type": "stream",
     "text": [
      "[[1.  2.  1.5]\n",
      " [3.5 3.  4. ]]\n"
     ]
    },
    {
     "data": {
      "text/plain": [
       "array([[1., 2., 4.],\n",
       "       [1., 3., 4.]])"
      ]
     },
     "execution_count": 4,
     "metadata": {},
     "output_type": "execute_result"
    }
   ],
   "source": [
    "# deal with the missing data\n",
    "\n",
    "X = dframe1.values\n",
    "imputer = Imputer(missing_values='NaN',strategy='mean',axis=1)\n",
    "X = imputer.fit_transform(X)\n",
    "print(X)\n",
    "X1 = dframe1.values\n",
    "imputer = Imputer(missing_values='NaN',strategy='mean',axis=0)\n",
    "X1 = imputer.fit_transform(X1)\n",
    "X1"
   ]
  },
  {
   "cell_type": "code",
   "execution_count": 5,
   "metadata": {},
   "outputs": [
    {
     "name": "stdout",
     "output_type": "stream",
     "text": [
      "One      1.0\n",
      "Two      5.0\n",
      "Three    4.0\n",
      "dtype: float64\n",
      "A    3.0\n",
      "B    7.0\n",
      "dtype: float64\n",
      "One      1.0\n",
      "Two      2.0\n",
      "Three    4.0\n",
      "dtype: float64\n",
      "One      A\n",
      "Two      A\n",
      "Three    B\n",
      "dtype: object\n"
     ]
    }
   ],
   "source": [
    "# Let's see the sum() method in action\n",
    "print(dframe1.sum(axis = 0))\n",
    "print(dframe1.sum(axis = 1))\n",
    "\n",
    "# Can also grab min and max values of dataframe\n",
    "print(dframe1.min())\n",
    "print(dframe1.idxmin())"
   ]
  },
  {
   "cell_type": "code",
   "execution_count": 6,
   "metadata": {},
   "outputs": [
    {
     "name": "stdout",
     "output_type": "stream",
     "text": [
      "    0   1   2   3\n",
      "a   0   1   2   3\n",
      "b   4   5   6   7\n",
      "c   8   9  10  11\n",
      "d  12  13  14  15\n"
     ]
    },
    {
     "data": {
      "text/html": [
       "<div>\n",
       "<style scoped>\n",
       "    .dataframe tbody tr th:only-of-type {\n",
       "        vertical-align: middle;\n",
       "    }\n",
       "\n",
       "    .dataframe tbody tr th {\n",
       "        vertical-align: top;\n",
       "    }\n",
       "\n",
       "    .dataframe thead th {\n",
       "        text-align: right;\n",
       "    }\n",
       "</style>\n",
       "<table border=\"1\" class=\"dataframe\">\n",
       "  <thead>\n",
       "    <tr style=\"text-align: right;\">\n",
       "      <th></th>\n",
       "      <th>0</th>\n",
       "      <th>1</th>\n",
       "      <th>2</th>\n",
       "      <th>3</th>\n",
       "    </tr>\n",
       "  </thead>\n",
       "  <tbody>\n",
       "    <tr>\n",
       "      <th>a</th>\n",
       "      <td>0</td>\n",
       "      <td>1</td>\n",
       "      <td>2</td>\n",
       "      <td>3</td>\n",
       "    </tr>\n",
       "    <tr>\n",
       "      <th>b</th>\n",
       "      <td>4</td>\n",
       "      <td>6</td>\n",
       "      <td>8</td>\n",
       "      <td>10</td>\n",
       "    </tr>\n",
       "    <tr>\n",
       "      <th>c</th>\n",
       "      <td>12</td>\n",
       "      <td>15</td>\n",
       "      <td>18</td>\n",
       "      <td>21</td>\n",
       "    </tr>\n",
       "    <tr>\n",
       "      <th>d</th>\n",
       "      <td>24</td>\n",
       "      <td>28</td>\n",
       "      <td>32</td>\n",
       "      <td>36</td>\n",
       "    </tr>\n",
       "  </tbody>\n",
       "</table>\n",
       "</div>"
      ],
      "text/plain": [
       "    0   1   2   3\n",
       "a   0   1   2   3\n",
       "b   4   6   8  10\n",
       "c  12  15  18  21\n",
       "d  24  28  32  36"
      ]
     },
     "execution_count": 6,
     "metadata": {},
     "output_type": "execute_result"
    }
   ],
   "source": [
    "# accumulation sum\n",
    "dframe1 = DataFrame(np.arange(16).reshape(4,-1),index = list('abcd'),columns=list(range(4)))\n",
    "print(dframe1)\n",
    "dframe1.cumsum()"
   ]
  },
  {
   "cell_type": "code",
   "execution_count": 7,
   "metadata": {},
   "outputs": [
    {
     "data": {
      "text/html": [
       "<div>\n",
       "<style scoped>\n",
       "    .dataframe tbody tr th:only-of-type {\n",
       "        vertical-align: middle;\n",
       "    }\n",
       "\n",
       "    .dataframe tbody tr th {\n",
       "        vertical-align: top;\n",
       "    }\n",
       "\n",
       "    .dataframe thead th {\n",
       "        text-align: right;\n",
       "    }\n",
       "</style>\n",
       "<table border=\"1\" class=\"dataframe\">\n",
       "  <thead>\n",
       "    <tr style=\"text-align: right;\">\n",
       "      <th></th>\n",
       "      <th>0</th>\n",
       "      <th>1</th>\n",
       "      <th>2</th>\n",
       "      <th>3</th>\n",
       "    </tr>\n",
       "  </thead>\n",
       "  <tbody>\n",
       "    <tr>\n",
       "      <th>count</th>\n",
       "      <td>4.000000</td>\n",
       "      <td>4.000000</td>\n",
       "      <td>4.000000</td>\n",
       "      <td>4.000000</td>\n",
       "    </tr>\n",
       "    <tr>\n",
       "      <th>mean</th>\n",
       "      <td>6.000000</td>\n",
       "      <td>7.000000</td>\n",
       "      <td>8.000000</td>\n",
       "      <td>9.000000</td>\n",
       "    </tr>\n",
       "    <tr>\n",
       "      <th>std</th>\n",
       "      <td>5.163978</td>\n",
       "      <td>5.163978</td>\n",
       "      <td>5.163978</td>\n",
       "      <td>5.163978</td>\n",
       "    </tr>\n",
       "    <tr>\n",
       "      <th>min</th>\n",
       "      <td>0.000000</td>\n",
       "      <td>1.000000</td>\n",
       "      <td>2.000000</td>\n",
       "      <td>3.000000</td>\n",
       "    </tr>\n",
       "    <tr>\n",
       "      <th>25%</th>\n",
       "      <td>3.000000</td>\n",
       "      <td>4.000000</td>\n",
       "      <td>5.000000</td>\n",
       "      <td>6.000000</td>\n",
       "    </tr>\n",
       "    <tr>\n",
       "      <th>50%</th>\n",
       "      <td>6.000000</td>\n",
       "      <td>7.000000</td>\n",
       "      <td>8.000000</td>\n",
       "      <td>9.000000</td>\n",
       "    </tr>\n",
       "    <tr>\n",
       "      <th>75%</th>\n",
       "      <td>9.000000</td>\n",
       "      <td>10.000000</td>\n",
       "      <td>11.000000</td>\n",
       "      <td>12.000000</td>\n",
       "    </tr>\n",
       "    <tr>\n",
       "      <th>max</th>\n",
       "      <td>12.000000</td>\n",
       "      <td>13.000000</td>\n",
       "      <td>14.000000</td>\n",
       "      <td>15.000000</td>\n",
       "    </tr>\n",
       "  </tbody>\n",
       "</table>\n",
       "</div>"
      ],
      "text/plain": [
       "               0          1          2          3\n",
       "count   4.000000   4.000000   4.000000   4.000000\n",
       "mean    6.000000   7.000000   8.000000   9.000000\n",
       "std     5.163978   5.163978   5.163978   5.163978\n",
       "min     0.000000   1.000000   2.000000   3.000000\n",
       "25%     3.000000   4.000000   5.000000   6.000000\n",
       "50%     6.000000   7.000000   8.000000   9.000000\n",
       "75%     9.000000  10.000000  11.000000  12.000000\n",
       "max    12.000000  13.000000  14.000000  15.000000"
      ]
     },
     "execution_count": 7,
     "metadata": {},
     "output_type": "execute_result"
    }
   ],
   "source": [
    "# summary statistics\n",
    "dframe1.describe()"
   ]
  },
  {
   "cell_type": "code",
   "execution_count": 8,
   "metadata": {},
   "outputs": [
    {
     "data": {
      "image/jpeg": "[encoded data removed]",
      "text/html": [
       "\n",
       "        <iframe\n",
       "            width=\"400\"\n",
       "            height=\"300\"\n",
       "            src=\"https://www.youtube.com/embed/xGbpuFNR1ME\"\n",
       "            frameborder=\"0\"\n",
       "            allowfullscreen\n",
       "        ></iframe>\n",
       "        "
      ],
      "text/plain": [
       "<IPython.lib.display.YouTubeVideo at 0x19c33c96630>"
      ]
     },
     "execution_count": 8,
     "metadata": {},
     "output_type": "execute_result"
    }
   ],
   "source": [
    "from IPython.display import YouTubeVideo\n",
    "YouTubeVideo('xGbpuFNR1ME')"
   ]
  },
  {
   "cell_type": "code",
   "execution_count": 9,
   "metadata": {},
   "outputs": [
    {
     "data": {
      "text/html": [
       "<div>\n",
       "<style scoped>\n",
       "    .dataframe tbody tr th:only-of-type {\n",
       "        vertical-align: middle;\n",
       "    }\n",
       "\n",
       "    .dataframe tbody tr th {\n",
       "        vertical-align: top;\n",
       "    }\n",
       "\n",
       "    .dataframe thead th {\n",
       "        text-align: right;\n",
       "    }\n",
       "</style>\n",
       "<table border=\"1\" class=\"dataframe\">\n",
       "  <thead>\n",
       "    <tr style=\"text-align: right;\">\n",
       "      <th>Symbols</th>\n",
       "      <th>BP</th>\n",
       "      <th>CVX</th>\n",
       "      <th>XOM</th>\n",
       "    </tr>\n",
       "    <tr>\n",
       "      <th>Date</th>\n",
       "      <th></th>\n",
       "      <th></th>\n",
       "      <th></th>\n",
       "    </tr>\n",
       "  </thead>\n",
       "  <tbody>\n",
       "    <tr>\n",
       "      <th>2014-12-31</th>\n",
       "      <td>29.431612</td>\n",
       "      <td>95.142174</td>\n",
       "      <td>79.858887</td>\n",
       "    </tr>\n",
       "    <tr>\n",
       "      <th>2015-01-02</th>\n",
       "      <td>29.431612</td>\n",
       "      <td>95.481415</td>\n",
       "      <td>80.187126</td>\n",
       "    </tr>\n",
       "    <tr>\n",
       "      <th>2015-01-05</th>\n",
       "      <td>27.872011</td>\n",
       "      <td>91.664886</td>\n",
       "      <td>77.993080</td>\n",
       "    </tr>\n",
       "    <tr>\n",
       "      <th>2015-01-06</th>\n",
       "      <td>27.663549</td>\n",
       "      <td>91.622475</td>\n",
       "      <td>77.578430</td>\n",
       "    </tr>\n",
       "    <tr>\n",
       "      <th>2015-01-07</th>\n",
       "      <td>27.733036</td>\n",
       "      <td>91.546143</td>\n",
       "      <td>78.364494</td>\n",
       "    </tr>\n",
       "  </tbody>\n",
       "</table>\n",
       "</div>"
      ],
      "text/plain": [
       "Symbols            BP        CVX        XOM\n",
       "Date                                       \n",
       "2014-12-31  29.431612  95.142174  79.858887\n",
       "2015-01-02  29.431612  95.481415  80.187126\n",
       "2015-01-05  27.872011  91.664886  77.993080\n",
       "2015-01-06  27.663549  91.622475  77.578430\n",
       "2015-01-07  27.733036  91.546143  78.364494"
      ]
     },
     "execution_count": 9,
     "metadata": {},
     "output_type": "execute_result"
    }
   ],
   "source": [
    "# https://zhuanlan.zhihu.com/p/54453306\n",
    "\n",
    "import pandas_datareader as pdr\n",
    "import datetime as dt\n",
    "\n",
    "start = dt.datetime(2015, 1, 1)\n",
    "end = dt.datetime(2018, 1, 1)\n",
    "\n",
    "prices  = pdr.get_data_yahoo(['CVX','XOM','BP'],start = start,end = end)['Adj Close']\n",
    "prices.head() "
   ]
  },
  {
   "cell_type": "code",
   "execution_count": 10,
   "metadata": {},
   "outputs": [
    {
     "data": {
      "text/html": [
       "<div>\n",
       "<style scoped>\n",
       "    .dataframe tbody tr th:only-of-type {\n",
       "        vertical-align: middle;\n",
       "    }\n",
       "\n",
       "    .dataframe tbody tr th {\n",
       "        vertical-align: top;\n",
       "    }\n",
       "\n",
       "    .dataframe thead th {\n",
       "        text-align: right;\n",
       "    }\n",
       "</style>\n",
       "<table border=\"1\" class=\"dataframe\">\n",
       "  <thead>\n",
       "    <tr style=\"text-align: right;\">\n",
       "      <th>Symbols</th>\n",
       "      <th>BP</th>\n",
       "      <th>CVX</th>\n",
       "      <th>XOM</th>\n",
       "    </tr>\n",
       "    <tr>\n",
       "      <th>Date</th>\n",
       "      <th></th>\n",
       "      <th></th>\n",
       "      <th></th>\n",
       "    </tr>\n",
       "  </thead>\n",
       "  <tbody>\n",
       "    <tr>\n",
       "      <th>2014-12-31</th>\n",
       "      <td>6856800.0</td>\n",
       "      <td>6411800.0</td>\n",
       "      <td>11337200.0</td>\n",
       "    </tr>\n",
       "    <tr>\n",
       "      <th>2015-01-02</th>\n",
       "      <td>6290100.0</td>\n",
       "      <td>5898800.0</td>\n",
       "      <td>10220400.0</td>\n",
       "    </tr>\n",
       "    <tr>\n",
       "      <th>2015-01-05</th>\n",
       "      <td>16126000.0</td>\n",
       "      <td>11758100.0</td>\n",
       "      <td>18502400.0</td>\n",
       "    </tr>\n",
       "    <tr>\n",
       "      <th>2015-01-06</th>\n",
       "      <td>11575800.0</td>\n",
       "      <td>11591600.0</td>\n",
       "      <td>16670700.0</td>\n",
       "    </tr>\n",
       "    <tr>\n",
       "      <th>2015-01-07</th>\n",
       "      <td>9192400.0</td>\n",
       "      <td>10353800.0</td>\n",
       "      <td>13590700.0</td>\n",
       "    </tr>\n",
       "  </tbody>\n",
       "</table>\n",
       "</div>"
      ],
      "text/plain": [
       "Symbols             BP         CVX         XOM\n",
       "Date                                          \n",
       "2014-12-31   6856800.0   6411800.0  11337200.0\n",
       "2015-01-02   6290100.0   5898800.0  10220400.0\n",
       "2015-01-05  16126000.0  11758100.0  18502400.0\n",
       "2015-01-06  11575800.0  11591600.0  16670700.0\n",
       "2015-01-07   9192400.0  10353800.0  13590700.0"
      ]
     },
     "execution_count": 10,
     "metadata": {},
     "output_type": "execute_result"
    }
   ],
   "source": [
    "volume = pdr.get_data_yahoo(['CVX','XOM','BP'], \n",
    "                               start=start, \n",
    "                               end=end)['Volume']\n",
    "volume.head()"
   ]
  },
  {
   "cell_type": "code",
   "execution_count": 15,
   "metadata": {},
   "outputs": [
    {
     "name": "stdout",
     "output_type": "stream",
     "text": [
      "Symbols           BP       CVX       XOM\n",
      "Date                                    \n",
      "2014-12-31       NaN       NaN       NaN\n",
      "2015-01-02  0.000000  0.003566  0.004110\n",
      "2015-01-05 -0.052991 -0.039971 -0.027362\n",
      "2015-01-06 -0.007479 -0.000463 -0.005316\n",
      "2015-01-07  0.002512 -0.000833  0.010133\n",
      "2015-01-08  0.022550  0.022883  0.016645\n",
      "2015-01-09 -0.004084 -0.019926 -0.001410\n",
      "2015-01-12 -0.014489 -0.021532 -0.019218\n",
      "2015-01-13 -0.002497 -0.015867 -0.003653\n",
      "2015-01-14 -0.008065 -0.002879 -0.002889\n",
      "2015-01-15  0.001682 -0.011838 -0.008692\n",
      "2015-01-16  0.059614  0.023863  0.024281\n",
      "2015-01-20 -0.004491  0.012842 -0.000329\n",
      "2015-01-21  0.029982  0.015873  0.008563\n",
      "2015-01-22  0.004122  0.007027  0.010885\n",
      "2015-01-23 -0.002053 -0.019005 -0.021320\n",
      "2015-01-26  0.026221  0.018998  0.009572\n",
      "2015-01-27  0.007265 -0.005694 -0.008827\n",
      "2015-01-28 -0.033076 -0.042028 -0.032985\n",
      "2015-01-29 -0.003344 -0.006846 -0.004207\n",
      "2015-01-30  0.002065 -0.004563 -0.001827\n",
      "2015-02-02  0.026526  0.034429  0.024708\n",
      "2015-02-03  0.031109  0.032717  0.029806\n",
      "2015-02-04 -0.015815 -0.010773 -0.008564\n",
      "2015-02-05  0.022991  0.008860  0.009840\n",
      "2015-02-06 -0.005075  0.002744 -0.001854\n",
      "2015-02-09  0.010687  0.007481  0.000656\n",
      "2015-02-10 -0.008652 -0.002264 -0.006007\n",
      "2015-02-11 -0.007380 -0.001815 -0.004505\n",
      "2015-02-12  0.024535  0.017905  0.019536\n",
      "...              ...       ...       ...\n",
      "2017-11-16 -0.008186 -0.006934 -0.008004\n",
      "2017-11-17  0.008254  0.001222 -0.003972\n",
      "2017-11-20 -0.002302  0.000087  0.003863\n",
      "2017-11-21  0.003333  0.003923  0.003973\n",
      "2017-11-22  0.016611  0.006425  0.002844\n",
      "2017-11-24  0.006787  0.005176  0.003946\n",
      "2017-11-27 -0.013483 -0.007896 -0.003807\n",
      "2017-11-28  0.009871  0.007440  0.006904\n",
      "2017-11-29 -0.004762  0.006269  0.007347\n",
      "2017-11-30  0.009066  0.015446  0.012398\n",
      "2017-12-01 -0.002995  0.004370  0.002041\n",
      "2017-12-04 -0.001002  0.011129  0.001318\n",
      "2017-12-05 -0.004510 -0.003724 -0.008137\n",
      "2017-12-06 -0.003775 -0.006479 -0.007359\n",
      "2017-12-07 -0.006822  0.000167  0.003282\n",
      "2017-12-08  0.008395  0.002424  0.001333\n",
      "2017-12-11  0.007316  0.004169  0.004476\n",
      "2017-12-12  0.018282 -0.006145 -0.003252\n",
      "2017-12-13 -0.000246  0.002089  0.004350\n",
      "2017-12-14 -0.000492 -0.003335 -0.002647\n",
      "2017-12-15 -0.008614  0.001673  0.001568\n",
      "2017-12-18  0.013903 -0.000251 -0.001084\n",
      "2017-12-19 -0.004897  0.001170 -0.006028\n",
      "2017-12-20  0.007628  0.008762  0.005216\n",
      "2017-12-21  0.017827  0.032509  0.011826\n",
      "2017-12-22 -0.009357  0.001282  0.001431\n",
      "2017-12-26  0.009688  0.008001  0.000119\n",
      "2017-12-27  0.000720 -0.003413 -0.000953\n",
      "2017-12-28  0.003595  0.000239  0.001430\n",
      "2017-12-29  0.003821 -0.003106 -0.004523\n",
      "\n",
      "[756 rows x 3 columns]\n"
     ]
    },
    {
     "data": {
      "text/plain": [
       "<bound method DataFrame.corr of Symbols           BP       CVX       XOM\n",
       "Date                                    \n",
       "2014-12-31       NaN       NaN       NaN\n",
       "2015-01-02  0.000000  0.003566  0.004110\n",
       "2015-01-05 -0.052991 -0.039971 -0.027362\n",
       "2015-01-06 -0.007479 -0.000463 -0.005316\n",
       "2015-01-07  0.002512 -0.000833  0.010133\n",
       "2015-01-08  0.022550  0.022883  0.016645\n",
       "2015-01-09 -0.004084 -0.019926 -0.001410\n",
       "2015-01-12 -0.014489 -0.021532 -0.019218\n",
       "2015-01-13 -0.002497 -0.015867 -0.003653\n",
       "2015-01-14 -0.008065 -0.002879 -0.002889\n",
       "2015-01-15  0.001682 -0.011838 -0.008692\n",
       "2015-01-16  0.059614  0.023863  0.024281\n",
       "2015-01-20 -0.004491  0.012842 -0.000329\n",
       "2015-01-21  0.029982  0.015873  0.008563\n",
       "2015-01-22  0.004122  0.007027  0.010885\n",
       "2015-01-23 -0.002053 -0.019005 -0.021320\n",
       "2015-01-26  0.026221  0.018998  0.009572\n",
       "2015-01-27  0.007265 -0.005694 -0.008827\n",
       "2015-01-28 -0.033076 -0.042028 -0.032985\n",
       "2015-01-29 -0.003344 -0.006846 -0.004207\n",
       "2015-01-30  0.002065 -0.004563 -0.001827\n",
       "2015-02-02  0.026526  0.034429  0.024708\n",
       "2015-02-03  0.031109  0.032717  0.029806\n",
       "2015-02-04 -0.015815 -0.010773 -0.008564\n",
       "2015-02-05  0.022991  0.008860  0.009840\n",
       "2015-02-06 -0.005075  0.002744 -0.001854\n",
       "2015-02-09  0.010687  0.007481  0.000656\n",
       "2015-02-10 -0.008652 -0.002264 -0.006007\n",
       "2015-02-11 -0.007380 -0.001815 -0.004505\n",
       "2015-02-12  0.024535  0.017905  0.019536\n",
       "...              ...       ...       ...\n",
       "2017-11-16 -0.008186 -0.006934 -0.008004\n",
       "2017-11-17  0.008254  0.001222 -0.003972\n",
       "2017-11-20 -0.002302  0.000087  0.003863\n",
       "2017-11-21  0.003333  0.003923  0.003973\n",
       "2017-11-22  0.016611  0.006425  0.002844\n",
       "2017-11-24  0.006787  0.005176  0.003946\n",
       "2017-11-27 -0.013483 -0.007896 -0.003807\n",
       "2017-11-28  0.009871  0.007440  0.006904\n",
       "2017-11-29 -0.004762  0.006269  0.007347\n",
       "2017-11-30  0.009066  0.015446  0.012398\n",
       "2017-12-01 -0.002995  0.004370  0.002041\n",
       "2017-12-04 -0.001002  0.011129  0.001318\n",
       "2017-12-05 -0.004510 -0.003724 -0.008137\n",
       "2017-12-06 -0.003775 -0.006479 -0.007359\n",
       "2017-12-07 -0.006822  0.000167  0.003282\n",
       "2017-12-08  0.008395  0.002424  0.001333\n",
       "2017-12-11  0.007316  0.004169  0.004476\n",
       "2017-12-12  0.018282 -0.006145 -0.003252\n",
       "2017-12-13 -0.000246  0.002089  0.004350\n",
       "2017-12-14 -0.000492 -0.003335 -0.002647\n",
       "2017-12-15 -0.008614  0.001673  0.001568\n",
       "2017-12-18  0.013903 -0.000251 -0.001084\n",
       "2017-12-19 -0.004897  0.001170 -0.006028\n",
       "2017-12-20  0.007628  0.008762  0.005216\n",
       "2017-12-21  0.017827  0.032509  0.011826\n",
       "2017-12-22 -0.009357  0.001282  0.001431\n",
       "2017-12-26  0.009688  0.008001  0.000119\n",
       "2017-12-27  0.000720 -0.003413 -0.000953\n",
       "2017-12-28  0.003595  0.000239  0.001430\n",
       "2017-12-29  0.003821 -0.003106 -0.004523\n",
       "\n",
       "[756 rows x 3 columns]>"
      ]
     },
     "execution_count": 15,
     "metadata": {},
     "output_type": "execute_result"
    }
   ],
   "source": [
    "# Lets get the return\n",
    "rets = prices.pct_change()\n",
    "print(rets)\n",
    "\n",
    "corr = rets.corr\n",
    "corr"
   ]
  },
  {
   "cell_type": "code",
   "execution_count": 16,
   "metadata": {},
   "outputs": [
    {
     "data": {
      "text/plain": [
       "<matplotlib.axes._subplots.AxesSubplot at 0x19c3687bb70>"
      ]
     },
     "execution_count": 16,
     "metadata": {},
     "output_type": "execute_result"
    },
    {
     "data": {
      "image/png": "[encoded data removed]",
      "text/plain": [
       "<Figure size 432x288 with 1 Axes>"
      ]
     },
     "metadata": {},
     "output_type": "display_data"
    }
   ],
   "source": [
    "prices.plot()"
   ]
  },
  {
   "cell_type": "code",
   "execution_count": 17,
   "metadata": {},
   "outputs": [
    {
     "data": {
      "text/plain": [
       "<matplotlib.axes._subplots.AxesSubplot at 0x19c36808828>"
      ]
     },
     "execution_count": 17,
     "metadata": {},
     "output_type": "execute_result"
    },
    {
     "data": {
      "image/png": "[encoded data removed]",
      "text/plain": [
       "<Figure size 432x288 with 2 Axes>"
      ]
     },
     "metadata": {},
     "output_type": "display_data"
    }
   ],
   "source": [
    "import seaborn as sns\n",
    "import matplotlib.pyplot as plt\n",
    "%matplotlib inline\n",
    "\n",
    "#As expected pretty strong correlations with eachother\n",
    "sns.heatmap(rets.corr())\n",
    "\n",
    "#We'll learn much more about seaborn later!"
   ]
  },
  {
   "cell_type": "code",
   "execution_count": null,
   "metadata": {},
   "outputs": [],
   "source": []
  }
 ],
 "metadata": {
  "kernelspec": {
   "display_name": "Python 3",
   "language": "python",
   "name": "python3"
  },
  "language_info": {
   "codemirror_mode": {
    "name": "ipython",
    "version": 3
   },
   "file_extension": ".py",
   "mimetype": "text/x-python",
   "name": "python",
   "nbconvert_exporter": "python",
   "pygments_lexer": "ipython3",
   "version": "3.6.5"
  }
 },
 "nbformat": 4,
 "nbformat_minor": 2
}
