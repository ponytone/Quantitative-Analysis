{
 "cells": [
  {
   "cell_type": "markdown",
   "metadata": {},
   "source": [
    "# Pandas "
   ]
  },
  {
   "cell_type": "markdown",
   "metadata": {},
   "source": [
    "## Index Objects"
   ]
  },
  {
   "cell_type": "code",
   "execution_count": 1,
   "metadata": {},
   "outputs": [],
   "source": [
    "import numpy as np\n",
    "import pandas as pd\n",
    "from pandas import DataFrame,Series\n",
    "from numpy import random\n",
    "import webbrowser"
   ]
  },
  {
   "cell_type": "code",
   "execution_count": 18,
   "metadata": {},
   "outputs": [
    {
     "data": {
      "text/plain": [
       "True"
      ]
     },
     "execution_count": 18,
     "metadata": {},
     "output_type": "execute_result"
    }
   ],
   "source": [
    "web = 'https://github.com/jmportilla/Udemy-notes/blob/master/Lec%2017%20-Reindexing.ipynb'\n",
    "webbrowser.open(web)"
   ]
  },
  {
   "cell_type": "code",
   "execution_count": 2,
   "metadata": {},
   "outputs": [
    {
     "name": "stdout",
     "output_type": "stream",
     "text": [
      "Index(['A', 'C', 'E', 'G'], dtype='object')\n"
     ]
    },
    {
     "ename": "NameError",
     "evalue": "name 'my_index' is not defined",
     "output_type": "error",
     "traceback": [
      "\u001b[1;31m---------------------------------------------------------------------------\u001b[0m",
      "\u001b[1;31mNameError\u001b[0m                                 Traceback (most recent call last)",
      "\u001b[1;32m<ipython-input-2-c17ce0cd36f0>\u001b[0m in \u001b[0;36m<module>\u001b[1;34m\u001b[0m\n\u001b[0;32m      3\u001b[0m \u001b[1;33m\u001b[0m\u001b[0m\n\u001b[0;32m      4\u001b[0m \u001b[1;31m# What happens if we try to change an index value?\u001b[0m\u001b[1;33m\u001b[0m\u001b[1;33m\u001b[0m\u001b[1;33m\u001b[0m\u001b[0m\n\u001b[1;32m----> 5\u001b[1;33m \u001b[0mmy_index\u001b[0m\u001b[1;33m[\u001b[0m\u001b[1;36m0\u001b[0m\u001b[1;33m]\u001b[0m \u001b[1;33m=\u001b[0m \u001b[1;34m'Z'\u001b[0m\u001b[1;33m\u001b[0m\u001b[1;33m\u001b[0m\u001b[0m\n\u001b[0m",
      "\u001b[1;31mNameError\u001b[0m: name 'my_index' is not defined"
     ]
    }
   ],
   "source": [
    "my_ser = Series([1,2,3,4,5,6,7],index = [i for i in 'ABCDEFG'])\n",
    "print(my_ser.index[::2])\n",
    "\n",
    "# What happens if we try to change an index value?\n",
    "my_index[0] = 'Z'"
   ]
  },
  {
   "cell_type": "markdown",
   "metadata": {},
   "source": [
    "## reindex"
   ]
  },
  {
   "cell_type": "code",
   "execution_count": 3,
   "metadata": {},
   "outputs": [
    {
     "name": "stdout",
     "output_type": "stream",
     "text": [
      "a    NaN\n",
      "b    NaN\n",
      "c    NaN\n",
      "d    NaN\n",
      "A    1.0\n",
      "B    2.0\n",
      "C    3.0\n",
      "D    4.0\n",
      "dtype: float64\n",
      "a    0\n",
      "b    0\n",
      "c    0\n",
      "d    0\n",
      "A    1\n",
      "B    2\n",
      "C    3\n",
      "D    4\n",
      "dtype: int64\n"
     ]
    }
   ],
   "source": [
    "my_ser1 = my_ser.reindex([i for i in 'abcdABCD'])\n",
    "print(my_ser1)\n",
    "\n",
    "my_ser1 = my_ser.reindex([i for i in 'abcdABCD'],fill_value=0)\n",
    "print(my_ser1)"
   ]
  },
  {
   "cell_type": "code",
   "execution_count": 19,
   "metadata": {},
   "outputs": [
    {
     "name": "stdout",
     "output_type": "stream",
     "text": [
      "0        USA\n",
      "5     Mexico\n",
      "10    Canada\n",
      "dtype: object\n"
     ]
    },
    {
     "data": {
      "text/plain": [
       "0        USA\n",
       "1        USA\n",
       "2        USA\n",
       "3        USA\n",
       "4        USA\n",
       "5     Mexico\n",
       "6     Mexico\n",
       "7     Mexico\n",
       "8     Mexico\n",
       "9     Mexico\n",
       "10    Canada\n",
       "11    Canada\n",
       "12    Canada\n",
       "13    Canada\n",
       "14    Canada\n",
       "dtype: object"
      ]
     },
     "execution_count": 19,
     "metadata": {},
     "output_type": "execute_result"
    }
   ],
   "source": [
    "# Using a particular method for filling values\n",
    "ser3 = Series(['USA','Mexico','Canada'],index=[0,5,10])\n",
    "print(ser3)\n",
    "\n",
    "ser3.reindex(range(15),method='ffill')"
   ]
  },
  {
   "cell_type": "code",
   "execution_count": 4,
   "metadata": {},
   "outputs": [
    {
     "name": "stdout",
     "output_type": "stream",
     "text": [
      "       col1      col2      col3      col4      col5\n",
      "A -0.109693 -1.162242 -0.019288  0.576460 -1.653172\n",
      "B -0.103465 -0.232724 -0.437033 -0.608157  0.013577\n",
      "D  0.829397  0.810393 -0.007649 -0.146534  0.337381\n",
      "E  0.635786 -1.437012  0.970975  1.037691  1.255393\n",
      "F -1.563597 -1.536094  1.952135 -0.248767 -0.947789\n",
      "       col1      col2      col3      col4      col5\n",
      "A -0.109693 -1.162242 -0.019288  0.576460 -1.653172\n",
      "B -0.103465 -0.232724 -0.437033 -0.608157  0.013577\n",
      "C       NaN       NaN       NaN       NaN       NaN\n",
      "D  0.829397  0.810393 -0.007649 -0.146534  0.337381\n",
      "E  0.635786 -1.437012  0.970975  1.037691  1.255393\n",
      "F -1.563597 -1.536094  1.952135 -0.248767 -0.947789\n",
      "       col1      col2      col3      col4      col5  col6\n",
      "A -0.109693 -1.162242 -0.019288  0.576460 -1.653172   NaN\n",
      "B -0.103465 -0.232724 -0.437033 -0.608157  0.013577   NaN\n",
      "D  0.829397  0.810393 -0.007649 -0.146534  0.337381   NaN\n",
      "E  0.635786 -1.437012  0.970975  1.037691  1.255393   NaN\n",
      "F -1.563597 -1.536094  1.952135 -0.248767 -0.947789   NaN\n"
     ]
    },
    {
     "data": {
      "text/html": [
       "<div>\n",
       "<style scoped>\n",
       "    .dataframe tbody tr th:only-of-type {\n",
       "        vertical-align: middle;\n",
       "    }\n",
       "\n",
       "    .dataframe tbody tr th {\n",
       "        vertical-align: top;\n",
       "    }\n",
       "\n",
       "    .dataframe thead th {\n",
       "        text-align: right;\n",
       "    }\n",
       "</style>\n",
       "<table border=\"1\" class=\"dataframe\">\n",
       "  <thead>\n",
       "    <tr style=\"text-align: right;\">\n",
       "      <th></th>\n",
       "      <th>col1</th>\n",
       "      <th>col2</th>\n",
       "      <th>col3</th>\n",
       "      <th>col4</th>\n",
       "      <th>col5</th>\n",
       "      <th>col6</th>\n",
       "    </tr>\n",
       "  </thead>\n",
       "  <tbody>\n",
       "    <tr>\n",
       "      <th>A</th>\n",
       "      <td>-0.109693</td>\n",
       "      <td>-1.162242</td>\n",
       "      <td>-0.019288</td>\n",
       "      <td>0.576460</td>\n",
       "      <td>-1.653172</td>\n",
       "      <td>NaN</td>\n",
       "    </tr>\n",
       "    <tr>\n",
       "      <th>B</th>\n",
       "      <td>-0.103465</td>\n",
       "      <td>-0.232724</td>\n",
       "      <td>-0.437033</td>\n",
       "      <td>-0.608157</td>\n",
       "      <td>0.013577</td>\n",
       "      <td>NaN</td>\n",
       "    </tr>\n",
       "    <tr>\n",
       "      <th>C</th>\n",
       "      <td>NaN</td>\n",
       "      <td>NaN</td>\n",
       "      <td>NaN</td>\n",
       "      <td>NaN</td>\n",
       "      <td>NaN</td>\n",
       "      <td>NaN</td>\n",
       "    </tr>\n",
       "    <tr>\n",
       "      <th>D</th>\n",
       "      <td>0.829397</td>\n",
       "      <td>0.810393</td>\n",
       "      <td>-0.007649</td>\n",
       "      <td>-0.146534</td>\n",
       "      <td>0.337381</td>\n",
       "      <td>NaN</td>\n",
       "    </tr>\n",
       "    <tr>\n",
       "      <th>E</th>\n",
       "      <td>0.635786</td>\n",
       "      <td>-1.437012</td>\n",
       "      <td>0.970975</td>\n",
       "      <td>1.037691</td>\n",
       "      <td>1.255393</td>\n",
       "      <td>NaN</td>\n",
       "    </tr>\n",
       "    <tr>\n",
       "      <th>F</th>\n",
       "      <td>-1.563597</td>\n",
       "      <td>-1.536094</td>\n",
       "      <td>1.952135</td>\n",
       "      <td>-0.248767</td>\n",
       "      <td>-0.947789</td>\n",
       "      <td>NaN</td>\n",
       "    </tr>\n",
       "  </tbody>\n",
       "</table>\n",
       "</div>"
      ],
      "text/plain": [
       "       col1      col2      col3      col4      col5  col6\n",
       "A -0.109693 -1.162242 -0.019288  0.576460 -1.653172   NaN\n",
       "B -0.103465 -0.232724 -0.437033 -0.608157  0.013577   NaN\n",
       "C       NaN       NaN       NaN       NaN       NaN   NaN\n",
       "D  0.829397  0.810393 -0.007649 -0.146534  0.337381   NaN\n",
       "E  0.635786 -1.437012  0.970975  1.037691  1.255393   NaN\n",
       "F -1.563597 -1.536094  1.952135 -0.248767 -0.947789   NaN"
      ]
     },
     "execution_count": 4,
     "metadata": {},
     "output_type": "execute_result"
    }
   ],
   "source": [
    "dframe = DataFrame(random.randn(25).reshape((5,5)),index=['A','B','D','E','F'],columns=['col1','col2','col3','col4','col5'])\n",
    "print(dframe)\n",
    "\n",
    "# reindex rows\n",
    "print(dframe.reindex(['A','B','C','D','E','F']))\n",
    "\n",
    "# reindex columns\n",
    "new_col = ['col1','col2','col3','col4','col5','col6']\n",
    "print(dframe.reindex(columns = new_col))\n",
    "\n",
    "dframe2 = dframe.reindex(['A','B','C','D','E','F'],columns = new_col)\n",
    "dframe2"
   ]
  },
  {
   "cell_type": "markdown",
   "metadata": {},
   "source": [
    "## Drop"
   ]
  },
  {
   "cell_type": "code",
   "execution_count": 41,
   "metadata": {},
   "outputs": [
    {
     "data": {
      "text/plain": [
       "b    1\n",
       "c    2\n",
       "dtype: int32"
      ]
     },
     "execution_count": 41,
     "metadata": {},
     "output_type": "execute_result"
    }
   ],
   "source": [
    "ser1 = Series(np.arange(3),index = [i for i in 'abc'])\n",
    "ser1\n",
    "\n",
    "# drop series\n",
    "ser1.drop('a')"
   ]
  },
  {
   "cell_type": "code",
   "execution_count": 50,
   "metadata": {},
   "outputs": [
    {
     "name": "stdout",
     "output_type": "stream",
     "text": [
      "         pop      size      year\n",
      "SF  0.476050 -1.087625 -1.185861\n",
      "LA -0.879331  0.025060 -0.986071\n",
      "NY  0.348561  0.507312 -0.342400\n",
      "[[0.47604959 0.         0.        ]\n",
      " [0.         0.0250602  0.        ]\n",
      " [0.34856074 0.50731229 0.        ]]\n",
      "         pop      size      year\n",
      "LA -0.879331  0.025060 -0.986071\n",
      "NY  0.348561  0.507312 -0.342400\n",
      "         pop      year\n",
      "SF  0.476050 -1.185861\n",
      "LA -0.879331 -0.986071\n",
      "NY  0.348561 -0.342400\n"
     ]
    }
   ],
   "source": [
    "# drop dataframe\n",
    "dframe = DataFrame(random.randn(9).reshape(3,-1),index = ['SF','LA','NY'],columns=['pop','size','year'])\n",
    "print(dframe)\n",
    "print(np.where(dframe>0,dframe,0))\n",
    "\n",
    "print(dframe.drop('SF'))\n",
    "print(dframe.drop('size',axis = 1))"
   ]
  },
  {
   "cell_type": "markdown",
   "metadata": {},
   "source": [
    "## Selecting Entries"
   ]
  },
  {
   "cell_type": "code",
   "execution_count": 52,
   "metadata": {},
   "outputs": [
    {
     "data": {
      "text/plain": [
       "True"
      ]
     },
     "execution_count": 52,
     "metadata": {},
     "output_type": "execute_result"
    }
   ],
   "source": [
    "import webbrowser\n",
    "web = 'https://github.com/jmportilla/Udemy-notes/blob/master/Lec%2019%20-%20Selecting%20Entries.ipynb'\n",
    "webbrowser.open(web)"
   ]
  },
  {
   "cell_type": "code",
   "execution_count": 67,
   "metadata": {},
   "outputs": [
    {
     "name": "stdout",
     "output_type": "stream",
     "text": [
      "1\n",
      "C     4\n",
      "D     9\n",
      "E    16\n",
      "dtype: int32\n",
      "4\n",
      "A    0\n",
      "C    4\n",
      "D    9\n",
      "dtype: int32\n",
      "D     9\n",
      "E    16\n",
      "dtype: int32\n"
     ]
    }
   ],
   "source": [
    "# series\n",
    "ser1 = Series(np.arange(5),index = [i for i in 'ABCDE'])\n",
    "ser1 = ser1**2\n",
    "\n",
    "print(ser1[1])\n",
    "print(ser1[2:5])\n",
    "print(ser1['C'])\n",
    "print(ser1[['A','C','D']])\n",
    "print(ser1[ser1 > 5])"
   ]
  },
  {
   "cell_type": "code",
   "execution_count": 69,
   "metadata": {},
   "outputs": [
    {
     "data": {
      "text/html": [
       "<div>\n",
       "<style scoped>\n",
       "    .dataframe tbody tr th:only-of-type {\n",
       "        vertical-align: middle;\n",
       "    }\n",
       "\n",
       "    .dataframe tbody tr th {\n",
       "        vertical-align: top;\n",
       "    }\n",
       "\n",
       "    .dataframe thead th {\n",
       "        text-align: right;\n",
       "    }\n",
       "</style>\n",
       "<table border=\"1\" class=\"dataframe\">\n",
       "  <thead>\n",
       "    <tr style=\"text-align: right;\">\n",
       "      <th></th>\n",
       "      <th>A</th>\n",
       "      <th>B</th>\n",
       "      <th>C</th>\n",
       "      <th>D</th>\n",
       "      <th>E</th>\n",
       "    </tr>\n",
       "  </thead>\n",
       "  <tbody>\n",
       "    <tr>\n",
       "      <th>NYC</th>\n",
       "      <td>0</td>\n",
       "      <td>1</td>\n",
       "      <td>2</td>\n",
       "      <td>3</td>\n",
       "      <td>4</td>\n",
       "    </tr>\n",
       "    <tr>\n",
       "      <th>LA</th>\n",
       "      <td>5</td>\n",
       "      <td>6</td>\n",
       "      <td>7</td>\n",
       "      <td>8</td>\n",
       "      <td>9</td>\n",
       "    </tr>\n",
       "    <tr>\n",
       "      <th>SF</th>\n",
       "      <td>10</td>\n",
       "      <td>11</td>\n",
       "      <td>12</td>\n",
       "      <td>13</td>\n",
       "      <td>14</td>\n",
       "    </tr>\n",
       "    <tr>\n",
       "      <th>DC</th>\n",
       "      <td>15</td>\n",
       "      <td>16</td>\n",
       "      <td>17</td>\n",
       "      <td>18</td>\n",
       "      <td>19</td>\n",
       "    </tr>\n",
       "    <tr>\n",
       "      <th>Chi</th>\n",
       "      <td>20</td>\n",
       "      <td>21</td>\n",
       "      <td>22</td>\n",
       "      <td>23</td>\n",
       "      <td>24</td>\n",
       "    </tr>\n",
       "  </tbody>\n",
       "</table>\n",
       "</div>"
      ],
      "text/plain": [
       "      A   B   C   D   E\n",
       "NYC   0   1   2   3   4\n",
       "LA    5   6   7   8   9\n",
       "SF   10  11  12  13  14\n",
       "DC   15  16  17  18  19\n",
       "Chi  20  21  22  23  24"
      ]
     },
     "execution_count": 69,
     "metadata": {},
     "output_type": "execute_result"
    }
   ],
   "source": [
    "# dataframe\n",
    "dframe = DataFrame(np.arange(25).reshape((5,5)),index=['NYC','LA','SF','DC','Chi'],columns=['A','B','C','D','E'])\n",
    "dframe"
   ]
  },
  {
   "cell_type": "code",
   "execution_count": 73,
   "metadata": {},
   "outputs": [
    {
     "name": "stdout",
     "output_type": "stream",
     "text": [
      "NYC     1\n",
      "LA      6\n",
      "SF     11\n",
      "DC     16\n",
      "Chi    21\n",
      "Name: B, dtype: int32\n",
      "      B   D\n",
      "NYC   1   3\n",
      "LA    6   8\n",
      "SF   11  13\n",
      "DC   16  18\n",
      "Chi  21  23\n"
     ]
    }
   ],
   "source": [
    "print(dframe['B'])\n",
    "print(dframe[['B','D']])"
   ]
  },
  {
   "cell_type": "code",
   "execution_count": 78,
   "metadata": {},
   "outputs": [
    {
     "name": "stdout",
     "output_type": "stream",
     "text": [
      "      A   B   C   D   E\n",
      "SF   10  11  12  13  14\n",
      "DC   15  16  17  18  19\n",
      "Chi  20  21  22  23  24\n"
     ]
    },
    {
     "data": {
      "text/html": [
       "<div>\n",
       "<style scoped>\n",
       "    .dataframe tbody tr th:only-of-type {\n",
       "        vertical-align: middle;\n",
       "    }\n",
       "\n",
       "    .dataframe tbody tr th {\n",
       "        vertical-align: top;\n",
       "    }\n",
       "\n",
       "    .dataframe thead th {\n",
       "        text-align: right;\n",
       "    }\n",
       "</style>\n",
       "<table border=\"1\" class=\"dataframe\">\n",
       "  <thead>\n",
       "    <tr style=\"text-align: right;\">\n",
       "      <th></th>\n",
       "      <th>A</th>\n",
       "      <th>B</th>\n",
       "      <th>C</th>\n",
       "      <th>D</th>\n",
       "      <th>E</th>\n",
       "    </tr>\n",
       "  </thead>\n",
       "  <tbody>\n",
       "    <tr>\n",
       "      <th>NYC</th>\n",
       "      <td>False</td>\n",
       "      <td>False</td>\n",
       "      <td>False</td>\n",
       "      <td>False</td>\n",
       "      <td>False</td>\n",
       "    </tr>\n",
       "    <tr>\n",
       "      <th>LA</th>\n",
       "      <td>False</td>\n",
       "      <td>False</td>\n",
       "      <td>False</td>\n",
       "      <td>False</td>\n",
       "      <td>False</td>\n",
       "    </tr>\n",
       "    <tr>\n",
       "      <th>SF</th>\n",
       "      <td>False</td>\n",
       "      <td>True</td>\n",
       "      <td>True</td>\n",
       "      <td>True</td>\n",
       "      <td>True</td>\n",
       "    </tr>\n",
       "    <tr>\n",
       "      <th>DC</th>\n",
       "      <td>True</td>\n",
       "      <td>True</td>\n",
       "      <td>True</td>\n",
       "      <td>True</td>\n",
       "      <td>True</td>\n",
       "    </tr>\n",
       "    <tr>\n",
       "      <th>Chi</th>\n",
       "      <td>True</td>\n",
       "      <td>True</td>\n",
       "      <td>True</td>\n",
       "      <td>True</td>\n",
       "      <td>True</td>\n",
       "    </tr>\n",
       "  </tbody>\n",
       "</table>\n",
       "</div>"
      ],
      "text/plain": [
       "         A      B      C      D      E\n",
       "NYC  False  False  False  False  False\n",
       "LA   False  False  False  False  False\n",
       "SF   False   True   True   True   True\n",
       "DC    True   True   True   True   True\n",
       "Chi   True   True   True   True   True"
      ]
     },
     "execution_count": 78,
     "metadata": {},
     "output_type": "execute_result"
    }
   ],
   "source": [
    "print(dframe[dframe['B'] > 8])\n",
    "dframe > 10"
   ]
  },
  {
   "cell_type": "code",
   "execution_count": 85,
   "metadata": {},
   "outputs": [
    {
     "name": "stdout",
     "output_type": "stream",
     "text": [
      "A    15\n",
      "B    16\n",
      "C    17\n",
      "D    18\n",
      "E    19\n",
      "Name: DC, dtype: int32\n",
      "A    5\n",
      "B    6\n",
      "C    7\n",
      "D    8\n",
      "E    9\n",
      "Name: LA, dtype: int32\n"
     ]
    }
   ],
   "source": [
    "# select by index \n",
    "print(dframe.iloc[3])\n",
    "print(dframe.loc['LA'])"
   ]
  }
 ],
 "metadata": {
  "kernelspec": {
   "display_name": "Python 3",
   "language": "python",
   "name": "python3"
  },
  "language_info": {
   "codemirror_mode": {
    "name": "ipython",
    "version": 3
   },
   "file_extension": ".py",
   "mimetype": "text/x-python",
   "name": "python",
   "nbconvert_exporter": "python",
   "pygments_lexer": "ipython3",
   "version": "3.7.1"
  }
 },
 "nbformat": 4,
 "nbformat_minor": 2
}
