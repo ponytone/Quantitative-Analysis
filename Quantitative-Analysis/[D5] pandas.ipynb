{
 "cells": [
  {
   "cell_type": "markdown",
   "metadata": {},
   "source": [
    "# Pandas\n",
    "* Sourse : <https://wizardforcel.gitbooks.io/python-quant-uqer/content/9.html>"
   ]
  },
  {
   "cell_type": "code",
   "execution_count": 6,
   "metadata": {},
   "outputs": [
    {
     "name": "stdout",
     "output_type": "stream",
     "text": [
      "0.23.4\n"
     ]
    }
   ],
   "source": [
    "import pandas as pd\n",
    "from pandas import Series,DataFrame\n",
    "import numpy as np\n",
    "print(pd.__version__)"
   ]
  },
  {
   "cell_type": "markdown",
   "metadata": {},
   "source": [
    "## Series"
   ]
  },
  {
   "cell_type": "code",
   "execution_count": 29,
   "metadata": {},
   "outputs": [
    {
     "name": "stdout",
     "output_type": "stream",
     "text": [
      "[-0.65049018  0.98622307  0.04720816  0.62922544 -1.12186431]\n",
      "0   -0.650490\n",
      "1    0.986223\n",
      "2    0.047208\n",
      "3    0.629225\n",
      "4   -1.121864\n",
      "dtype: float64\n",
      "a    1\n",
      "b    2\n",
      "c    3\n",
      "d    4\n",
      "e    5\n",
      "dtype: int32\n",
      "Index(['a', 'b', 'c', 'd', 'e'], dtype='object')\n",
      "1    1\n",
      "2    1\n",
      "3    1\n",
      "Name: test_series, dtype: int64\n",
      "test_series\n",
      "a    4.0\n",
      "b    4.0\n",
      "c    4.0\n",
      "dtype: float64\n"
     ]
    }
   ],
   "source": [
    "# array\n",
    "a = np.random.randn(5)\n",
    "    # Return a sample (or samples) from the “standard normal” distribution.\n",
    "print(a)\n",
    "\n",
    "# create series\n",
    "s = Series(a)\n",
    "print(s)\n",
    "\n",
    "s = Series(np.array([1,2,3,4,5]),index = ['a','b','c','d','e'])\n",
    "print(s)\n",
    "print(s.index)\n",
    "\n",
    "s = Series(np.random.randint(3),index = ['1','2','3'],name = 'test_series')\n",
    "print(s)\n",
    "print(s.name)\n",
    "\n",
    "s = Series(4.0,index = ['a','b','c'])\n",
    "print(s)"
   ]
  },
  {
   "cell_type": "code",
   "execution_count": 30,
   "metadata": {},
   "outputs": [
    {
     "name": "stdout",
     "output_type": "stream",
     "text": [
      "a    1\n",
      "b    2\n",
      "c    3\n",
      "dtype: int64\n",
      "b    2.0\n",
      "c    3.0\n",
      "d    NaN\n",
      "a    1.0\n",
      "dtype: float64\n"
     ]
    }
   ],
   "source": [
    "# create series with dictionary\n",
    "d = {'a':1,'b':2,'c':3}\n",
    "s = Series(d)\n",
    "print(s)\n",
    "\n",
    "s = Series(d,index = ['b','c','d','a'])\n",
    "print(s)"
   ]
  },
  {
   "cell_type": "code",
   "execution_count": 61,
   "metadata": {},
   "outputs": [
    {
     "name": "stdout",
     "output_type": "stream",
     "text": [
      "a    14\n",
      "b     7\n",
      "c     5\n",
      "d    17\n",
      "e     9\n",
      "dtype: int32\n",
      "14\n",
      "a    14\n",
      "c     5\n",
      "e     9\n",
      "dtype: int32\n",
      "b     7\n",
      "d    17\n",
      "e     9\n",
      "dtype: int32\n",
      "a    14\n",
      "e     9\n",
      "dtype: int32\n",
      "a    14\n",
      "b     7\n",
      "d    17\n",
      "e     9\n",
      "dtype: int32\n"
     ]
    }
   ],
   "source": [
    "s = Series(np.random.randint(low = 0,high = 20,size = 5),index = ['a','b','c','d','e'])\n",
    "print(s)\n",
    "print(s[0])\n",
    "print(s[::2])\n",
    "print(s[[1,3,4]])\n",
    "print(s[['a','e']])\n",
    "print(s[s>5])"
   ]
  },
  {
   "cell_type": "markdown",
   "metadata": {},
   "source": [
    "## Dataframe\n",
    "* Combination of many Series\n",
    "* Stored different data type"
   ]
  },
  {
   "cell_type": "code",
   "execution_count": 7,
   "metadata": {},
   "outputs": [
    {
     "name": "stdout",
     "output_type": "stream",
     "text": [
      "   one  two\n",
      "a  1.0  1.0\n",
      "b  2.0  2.0\n",
      "c  3.0  3.0\n",
      "d  NaN  4.0\n",
      "   two three\n",
      "r  NaN   NaN\n",
      "d  4.0   NaN\n",
      "a  1.0   NaN\n"
     ]
    }
   ],
   "source": [
    "# create Dataframe\n",
    "d = {'one': Series([1., 2., 3.], index=['a', 'b', 'c']), 'two': Series([1., 2., 3., 4.], index=['a', 'b', 'c', 'd'])}\n",
    "df = DataFrame(d)\n",
    "print(df)\n",
    "df = DataFrame(d, index=['r', 'd', 'a'], columns=['two', 'three'])\n",
    "print(df)"
   ]
  },
  {
   "cell_type": "code",
   "execution_count": 8,
   "metadata": {},
   "outputs": [
    {
     "name": "stdout",
     "output_type": "stream",
     "text": [
      "   one  two  three\n",
      "a  1.0  2.0    NaN\n",
      "b  2.0  NaN    NaN\n",
      "c  3.0  NaN    NaN\n",
      "d  NaN  NaN    5.0\n",
      "e  NaN  4.0    5.0\n",
      "f  NaN  NaN    5.0\n",
      "i  NaN  6.0    NaN\n",
      "o  NaN  8.0    NaN\n",
      "Index(['a', 'b', 'c', 'd', 'e', 'f', 'i', 'o'], dtype='object')\n",
      "[[ 1.  2. nan]\n",
      " [ 2. nan nan]\n",
      " [ 3. nan nan]\n",
      " [nan nan  5.]\n",
      " [nan  4.  5.]\n",
      " [nan nan  5.]\n",
      " [nan  6. nan]\n",
      " [nan  8. nan]]\n",
      "Index(['one', 'two', 'three'], dtype='object')\n"
     ]
    },
    {
     "data": {
      "text/html": [
       "<div>\n",
       "<style scoped>\n",
       "    .dataframe tbody tr th:only-of-type {\n",
       "        vertical-align: middle;\n",
       "    }\n",
       "\n",
       "    .dataframe tbody tr th {\n",
       "        vertical-align: top;\n",
       "    }\n",
       "\n",
       "    .dataframe thead th {\n",
       "        text-align: right;\n",
       "    }\n",
       "</style>\n",
       "<table border=\"1\" class=\"dataframe\">\n",
       "  <thead>\n",
       "    <tr style=\"text-align: right;\">\n",
       "      <th></th>\n",
       "      <th>0</th>\n",
       "      <th>1</th>\n",
       "      <th>2</th>\n",
       "    </tr>\n",
       "  </thead>\n",
       "  <tbody>\n",
       "    <tr>\n",
       "      <th>5</th>\n",
       "      <td>1.0</td>\n",
       "      <td>2.0</td>\n",
       "      <td>NaN</td>\n",
       "    </tr>\n",
       "    <tr>\n",
       "      <th>6</th>\n",
       "      <td>2.0</td>\n",
       "      <td>NaN</td>\n",
       "      <td>NaN</td>\n",
       "    </tr>\n",
       "    <tr>\n",
       "      <th>7</th>\n",
       "      <td>3.0</td>\n",
       "      <td>NaN</td>\n",
       "      <td>NaN</td>\n",
       "    </tr>\n",
       "    <tr>\n",
       "      <th>8</th>\n",
       "      <td>NaN</td>\n",
       "      <td>NaN</td>\n",
       "      <td>5.0</td>\n",
       "    </tr>\n",
       "    <tr>\n",
       "      <th>9</th>\n",
       "      <td>NaN</td>\n",
       "      <td>4.0</td>\n",
       "      <td>5.0</td>\n",
       "    </tr>\n",
       "    <tr>\n",
       "      <th>10</th>\n",
       "      <td>NaN</td>\n",
       "      <td>NaN</td>\n",
       "      <td>5.0</td>\n",
       "    </tr>\n",
       "    <tr>\n",
       "      <th>11</th>\n",
       "      <td>NaN</td>\n",
       "      <td>6.0</td>\n",
       "      <td>NaN</td>\n",
       "    </tr>\n",
       "    <tr>\n",
       "      <th>12</th>\n",
       "      <td>NaN</td>\n",
       "      <td>8.0</td>\n",
       "      <td>NaN</td>\n",
       "    </tr>\n",
       "  </tbody>\n",
       "</table>\n",
       "</div>"
      ],
      "text/plain": [
       "      0    1    2\n",
       "5   1.0  2.0  NaN\n",
       "6   2.0  NaN  NaN\n",
       "7   3.0  NaN  NaN\n",
       "8   NaN  NaN  5.0\n",
       "9   NaN  4.0  5.0\n",
       "10  NaN  NaN  5.0\n",
       "11  NaN  6.0  NaN\n",
       "12  NaN  8.0  NaN"
      ]
     },
     "execution_count": 8,
     "metadata": {},
     "output_type": "execute_result"
    }
   ],
   "source": [
    "d = {'one':Series([1,2,3],index = ['a','b','c']), 'two':Series([2,4,6,8],index = ['a','e','i','o']), 'three':Series([5,5,5],index = ['d','e','f'])}\n",
    "df = DataFrame(d)\n",
    "print(df)\n",
    "print(df.index)\n",
    "print(df.values)\n",
    "print(df.columns)\n",
    "\n",
    "df = DataFrame(df.values,index = [str(i+5) for i in range(len(df.index))])\n",
    "df"
   ]
  },
  {
   "cell_type": "code",
   "execution_count": 10,
   "metadata": {},
   "outputs": [
    {
     "data": {
      "text/html": [
       "<div>\n",
       "<style scoped>\n",
       "    .dataframe tbody tr th:only-of-type {\n",
       "        vertical-align: middle;\n",
       "    }\n",
       "\n",
       "    .dataframe tbody tr th {\n",
       "        vertical-align: top;\n",
       "    }\n",
       "\n",
       "    .dataframe thead th {\n",
       "        text-align: right;\n",
       "    }\n",
       "</style>\n",
       "<table border=\"1\" class=\"dataframe\">\n",
       "  <thead>\n",
       "    <tr style=\"text-align: right;\">\n",
       "      <th></th>\n",
       "      <th>0</th>\n",
       "      <th>1</th>\n",
       "    </tr>\n",
       "  </thead>\n",
       "  <tbody>\n",
       "    <tr>\n",
       "      <th>0</th>\n",
       "      <td>0</td>\n",
       "      <td>4.0</td>\n",
       "    </tr>\n",
       "    <tr>\n",
       "      <th>1</th>\n",
       "      <td>1</td>\n",
       "      <td>8.0</td>\n",
       "    </tr>\n",
       "    <tr>\n",
       "      <th>2</th>\n",
       "      <td>2</td>\n",
       "      <td>12.0</td>\n",
       "    </tr>\n",
       "    <tr>\n",
       "      <th>3</th>\n",
       "      <td>3</td>\n",
       "      <td>16.0</td>\n",
       "    </tr>\n",
       "    <tr>\n",
       "      <th>4</th>\n",
       "      <td>4</td>\n",
       "      <td>20.0</td>\n",
       "    </tr>\n",
       "  </tbody>\n",
       "</table>\n",
       "</div>"
      ],
      "text/plain": [
       "   0     1\n",
       "0  0   4.0\n",
       "1  1   8.0\n",
       "2  2  12.0\n",
       "3  3  16.0\n",
       "4  4  20.0"
      ]
     },
     "execution_count": 10,
     "metadata": {},
     "output_type": "execute_result"
    }
   ],
   "source": [
    "df = DataFrame()\n",
    "a = Series(range(5))\n",
    "b = Series(np.linspace(4, 20, 5))\n",
    "df = pd.concat([a, b], axis=1)\n",
    "df"
   ]
  },
  {
   "cell_type": "code",
   "execution_count": 16,
   "metadata": {},
   "outputs": [
    {
     "name": "stdout",
     "output_type": "stream",
     "text": [
      "       0\n",
      "alpha  8\n",
      "beta   8\n",
      "gamma  8\n",
      "delta  8\n",
      "eta    8\n",
      "      0  1  2  3  4\n",
      "beta  7  7  7  7  7\n"
     ]
    }
   ],
   "source": [
    "# create dataframe \n",
    "index = ['alpha', 'beta', 'gamma', 'delta', 'eta']\n",
    "a = DataFrame([8 for i in range(len(index))],index = index)\n",
    "print(a)\n",
    "b = DataFrame([[7 for i in range(len(index))]],index = [index[1]])\n",
    "print(b)"
   ]
  },
  {
   "cell_type": "code",
   "execution_count": 19,
   "metadata": {},
   "outputs": [
    {
     "data": {
      "text/html": [
       "<div>\n",
       "<style scoped>\n",
       "    .dataframe tbody tr th:only-of-type {\n",
       "        vertical-align: middle;\n",
       "    }\n",
       "\n",
       "    .dataframe tbody tr th {\n",
       "        vertical-align: top;\n",
       "    }\n",
       "\n",
       "    .dataframe thead th {\n",
       "        text-align: right;\n",
       "    }\n",
       "</style>\n",
       "<table border=\"1\" class=\"dataframe\">\n",
       "  <thead>\n",
       "    <tr style=\"text-align: right;\">\n",
       "      <th></th>\n",
       "      <th>0</th>\n",
       "      <th>1</th>\n",
       "      <th>2</th>\n",
       "      <th>3</th>\n",
       "      <th>4</th>\n",
       "    </tr>\n",
       "  </thead>\n",
       "  <tbody>\n",
       "    <tr>\n",
       "      <th>alpha</th>\n",
       "      <td>0.0</td>\n",
       "      <td>0.0</td>\n",
       "      <td>0.0</td>\n",
       "      <td>0.0</td>\n",
       "      <td>0.0</td>\n",
       "    </tr>\n",
       "    <tr>\n",
       "      <th>beta</th>\n",
       "      <td>1.0</td>\n",
       "      <td>2.0</td>\n",
       "      <td>3.0</td>\n",
       "      <td>4.0</td>\n",
       "      <td>5.0</td>\n",
       "    </tr>\n",
       "    <tr>\n",
       "      <th>gamma</th>\n",
       "      <td>2.0</td>\n",
       "      <td>4.0</td>\n",
       "      <td>6.0</td>\n",
       "      <td>8.0</td>\n",
       "      <td>10.0</td>\n",
       "    </tr>\n",
       "    <tr>\n",
       "      <th>delta</th>\n",
       "      <td>3.0</td>\n",
       "      <td>6.0</td>\n",
       "      <td>9.0</td>\n",
       "      <td>12.0</td>\n",
       "      <td>15.0</td>\n",
       "    </tr>\n",
       "    <tr>\n",
       "      <th>eta</th>\n",
       "      <td>4.0</td>\n",
       "      <td>8.0</td>\n",
       "      <td>12.0</td>\n",
       "      <td>16.0</td>\n",
       "      <td>20.0</td>\n",
       "    </tr>\n",
       "  </tbody>\n",
       "</table>\n",
       "</div>"
      ],
      "text/plain": [
       "         0    1     2     3     4\n",
       "alpha  0.0  0.0   0.0   0.0   0.0\n",
       "beta   1.0  2.0   3.0   4.0   5.0\n",
       "gamma  2.0  4.0   6.0   8.0  10.0\n",
       "delta  3.0  6.0   9.0  12.0  15.0\n",
       "eta    4.0  8.0  12.0  16.0  20.0"
      ]
     },
     "execution_count": 19,
     "metadata": {},
     "output_type": "execute_result"
    }
   ],
   "source": [
    "df = DataFrame()\n",
    "index = ['alpha', 'beta', 'gamma', 'delta', 'eta']\n",
    "for i in range(5):\n",
    "    a = DataFrame([np.linspace(i, 5*i, 5)], index=[index[i]])\n",
    "    df = pd.concat([df, a], axis=0)\n",
    "df"
   ]
  },
  {
   "cell_type": "code",
   "execution_count": 66,
   "metadata": {},
   "outputs": [
    {
     "name": "stdout",
     "output_type": "stream",
     "text": [
      "0     2.0\n",
      "1     4.0\n",
      "2     6.0\n",
      "3     8.0\n",
      "4    10.0\n",
      "Name: gamma, dtype: float64\n",
      "0     4.0\n",
      "1     8.0\n",
      "2    12.0\n",
      "3    16.0\n",
      "4    20.0\n",
      "Name: eta, dtype: float64\n",
      "beta     2.0\n",
      "gamma    4.0\n",
      "Name: 1, dtype: float64\n"
     ]
    }
   ],
   "source": [
    "df = DataFrame()\n",
    "index = ['alpha', 'beta', 'gamma', 'delta', 'eta']\n",
    "for i in range(5):\n",
    "    a = DataFrame([np.linspace(i, 5*i, 5)], index=[index[i]])\n",
    "    df = pd.concat([df, a], axis=0)\n",
    "# select row\n",
    "print(df.iloc[2])\n",
    "print(df.loc['eta'])"
   ]
  },
  {
   "cell_type": "code",
   "execution_count": 68,
   "metadata": {},
   "outputs": [
    {
     "name": "stdout",
     "output_type": "stream",
     "text": [
      "alpha    0.0\n",
      "beta     2.0\n",
      "gamma    4.0\n",
      "delta    6.0\n",
      "eta      8.0\n",
      "Name: 1, dtype: float64\n",
      "         1     2     4\n",
      "alpha  0.0   0.0   0.0\n",
      "beta   2.0   3.0   5.0\n",
      "gamma  4.0   6.0  10.0\n",
      "delta  6.0   9.0  15.0\n",
      "eta    8.0  12.0  20.0\n",
      "         a    b     c     d     e\n",
      "alpha  0.0  0.0   0.0   0.0   0.0\n",
      "beta   1.0  2.0   3.0   4.0   5.0\n",
      "gamma  2.0  4.0   6.0   8.0  10.0\n",
      "delta  3.0  6.0   9.0  12.0  15.0\n",
      "eta    4.0  8.0  12.0  16.0  20.0\n",
      "alpha    0.0\n",
      "beta     2.0\n",
      "gamma    4.0\n",
      "delta    6.0\n",
      "eta      8.0\n",
      "Name: b, dtype: float64\n",
      "alpha    0.0\n",
      "beta     2.0\n",
      "gamma    4.0\n",
      "delta    6.0\n",
      "eta      8.0\n",
      "Name: b, dtype: float64\n"
     ]
    }
   ],
   "source": [
    "#select column\n",
    "df = DataFrame()\n",
    "index = ['alpha', 'beta', 'gamma', 'delta', 'eta']\n",
    "for i in range(5):\n",
    "    a = DataFrame([np.linspace(i, 5*i, 5)], index=[index[i]])\n",
    "    df = pd.concat([df, a], axis=0)\n",
    "print(df[1])\n",
    "print(df[[1,2,4]])\n",
    "df.columns = ['a','b','c','d','e']\n",
    "print(df)\n",
    "print(df.b)\n",
    "print(df['b'])"
   ]
  },
  {
   "cell_type": "code",
   "execution_count": 69,
   "metadata": {},
   "outputs": [
    {
     "name": "stdout",
     "output_type": "stream",
     "text": [
      "8.0\n",
      "8.0\n"
     ]
    }
   ],
   "source": [
    "# select item \n",
    "print(df['b']['eta'])\n",
    "print(df.b[4])"
   ]
  },
  {
   "cell_type": "code",
   "execution_count": 73,
   "metadata": {},
   "outputs": [
    {
     "name": "stdout",
     "output_type": "stream",
     "text": [
      "         a    b    c    d     e\n",
      "beta   1.0  2.0  3.0  4.0   5.0\n",
      "gamma  2.0  4.0  6.0  8.0  10.0\n",
      "         a    b    c    d     e\n",
      "alpha  0.0  0.0  0.0  0.0   0.0\n",
      "beta   1.0  2.0  3.0  4.0   5.0\n",
      "gamma  2.0  4.0  6.0  8.0  10.0\n",
      "         b    a\n",
      "beta   2.0  1.0\n",
      "delta  6.0  3.0\n"
     ]
    }
   ],
   "source": [
    "#select dataframe\n",
    "print(df[1:3])\n",
    "bool_l = [True,True,True,False,False]\n",
    "print(df[bool_l])\n",
    "\n",
    "# select col & rows\n",
    "print(df[['b',\"a\"]].iloc[[1,3]])"
   ]
  }
 ],
 "metadata": {
  "kernelspec": {
   "display_name": "Python 3",
   "language": "python",
   "name": "python3"
  },
  "language_info": {
   "codemirror_mode": {
    "name": "ipython",
    "version": 3
   },
   "file_extension": ".py",
   "mimetype": "text/x-python",
   "name": "python",
   "nbconvert_exporter": "python",
   "pygments_lexer": "ipython3",
   "version": "3.7.1"
  }
 },
 "nbformat": 4,
 "nbformat_minor": 2
}
